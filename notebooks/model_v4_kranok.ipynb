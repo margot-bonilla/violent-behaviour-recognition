{
 "cells": [
  {
   "cell_type": "code",
   "execution_count": 1,
   "metadata": {
    "collapsed": false,
    "ExecuteTime": {
     "end_time": "2024-05-04T09:29:36.950042Z",
     "start_time": "2024-05-04T09:29:36.941867Z"
    }
   },
   "outputs": [
    {
     "name": "stdout",
     "output_type": "stream",
     "text": [
      "hello\n"
     ]
    }
   ],
   "source": [
    "print('hello')"
   ]
  },
  {
   "cell_type": "code",
   "execution_count": null,
   "metadata": {
    "_kg_hide-input": false,
    "_kg_hide-output": false,
    "is_executing": true
   },
   "outputs": [],
   "source": [
    "!pip install mediapipe\n",
    "!pip install -qr https://raw.githubusercontent.com/ultralytics/yolov5/master/requirements.txt"
   ]
  },
  {
   "cell_type": "code",
   "execution_count": null,
   "metadata": {
    "editable": true,
    "execution": {
     "iopub.execute_input": "2023-03-16T00:42:41.931156Z",
     "iopub.status.busy": "2023-03-16T00:42:41.930778Z",
     "iopub.status.idle": "2023-03-16T00:42:42.095896Z",
     "shell.execute_reply": "2023-03-16T00:42:42.094862Z",
     "shell.execute_reply.started": "2023-03-16T00:42:41.931074Z"
    },
    "is_executing": true,
    "slideshow": {
     "slide_type": ""
    },
    "tags": []
   },
   "outputs": [],
   "source": [
    "import glob\n",
    "origin_data = glob.glob(r\"../data/kranok-nv/Videos/*\")\n",
    "print(len(origin_data))"
   ]
  },
  {
   "cell_type": "code",
   "execution_count": null,
   "metadata": {
    "execution": {
     "iopub.execute_input": "2023-03-16T00:42:42.098339Z",
     "iopub.status.busy": "2023-03-16T00:42:42.097897Z",
     "iopub.status.idle": "2023-03-16T00:42:47.408002Z",
     "shell.execute_reply": "2023-03-16T00:42:47.407073Z",
     "shell.execute_reply.started": "2023-03-16T00:42:42.098303Z"
    }
   },
   "outputs": [],
   "source": [
    "import tensorflow as tf"
   ]
  },
  {
   "cell_type": "code",
   "execution_count": null,
   "metadata": {
    "editable": true,
    "execution": {
     "iopub.execute_input": "2023-03-16T00:42:47.410752Z",
     "iopub.status.busy": "2023-03-16T00:42:47.409342Z",
     "iopub.status.idle": "2023-03-16T00:42:47.434710Z",
     "shell.execute_reply": "2023-03-16T00:42:47.433869Z",
     "shell.execute_reply.started": "2023-03-16T00:42:47.410713Z"
    },
    "slideshow": {
     "slide_type": ""
    },
    "tags": []
   },
   "outputs": [],
   "source": [
    "origin_data_violent = glob.glob(r\"../input/kranoknv/Videos/Violent_*\")\n",
    "origin_data_normal = glob.glob(r\"../input/kranoknv/Videos/Normal_*\")\n",
    "print(len(origin_data_violent))\n",
    "print(len(origin_data_normal))"
   ]
  },
  {
   "cell_type": "code",
   "execution_count": null,
   "metadata": {
    "execution": {
     "iopub.execute_input": "2023-03-16T00:42:47.436956Z",
     "iopub.status.busy": "2023-03-16T00:42:47.436642Z",
     "iopub.status.idle": "2023-03-16T00:42:48.333329Z",
     "shell.execute_reply": "2023-03-16T00:42:48.331876Z",
     "shell.execute_reply.started": "2023-03-16T00:42:47.436922Z"
    }
   },
   "outputs": [],
   "source": [
    "import cv2\n",
    "import tensorflow as tf\n",
    "from keras.layers import LSTM, Dense,Dropout\n",
    "from keras.models import Sequential\n",
    "import math\n",
    "import mediapipe as mp\n",
    "from mediapipe.python.solutions import pose as mp_pose\n",
    "import torch\n",
    "from threading import Thread\n",
    "import pandas as pd\n",
    "import numpy as np\n",
    "from threading import Thread"
   ]
  },
  {
   "cell_type": "code",
   "execution_count": null,
   "metadata": {
    "execution": {
     "iopub.status.busy": "2023-03-16T00:42:48.334667Z",
     "iopub.status.idle": "2023-03-16T00:42:48.335173Z",
     "shell.execute_reply": "2023-03-16T00:42:48.334925Z",
     "shell.execute_reply.started": "2023-03-16T00:42:48.334902Z"
    }
   },
   "outputs": [],
   "source": [
    "yolo_model = torch.hub.load('ultralytics/yolov5', 'yolov5n')\n",
    "mp_drawing = mp.solutions.drawing_utils\n",
    "mp_pose =mp.solutions.pose"
   ]
  },
  {
   "cell_type": "markdown",
   "metadata": {},
   "source": [
    "Lấy keypoint 1 video"
   ]
  },
  {
   "cell_type": "code",
   "execution_count": null,
   "metadata": {
    "execution": {
     "iopub.execute_input": "2023-03-11T04:18:40.089254Z",
     "iopub.status.busy": "2023-03-11T04:18:40.080779Z",
     "iopub.status.idle": "2023-03-11T04:18:40.202251Z",
     "shell.execute_reply": "2023-03-11T04:18:40.200640Z",
     "shell.execute_reply.started": "2023-03-11T04:18:40.089182Z"
    }
   },
   "outputs": [],
   "source": [
    "# index_global = 0\n",
    "def EachVideo(linkVideo): # This function is used to browse through a video\n",
    "    X = []\n",
    "    video_path =r\"\"+ linkVideo\n",
    "    cap = cv2.VideoCapture(video_path)\n",
    "#     skipTime  = 0\n",
    "#     skipFrame = 0\n",
    "    while True:    \n",
    "        ret, frame = cap.read()\n",
    "#         skipTime = skipTime +1\n",
    "        if not ret:\n",
    "            break\n",
    "        if 1==1:\n",
    "#         if skipTime >= 30: # When skipTime has passed the first 30 frames, that is, the first 1 second, proceed with Detect Person\n",
    "#             skipFrame = skipFrame +1 # The skipFrame variable means that I will detect 1 time every 5 frames, so in 1 second I will detect 6 times.\n",
    "            # print(skipFrame)\n",
    "#             if  skipFrame  == 5: # When skipFrame = 5, I will detect person and assign skipFrame = 0 to run again\n",
    "            if 1==1:\n",
    "#                 skipFrame = 0\n",
    "                frame = cv2.cvtColor(frame, cv2.COLOR_BGR2RGB)\n",
    "                frame.flags.writeable = False  \n",
    "                result = yolo_model(frame)     # Detect Person\n",
    "                frame.flags.writeable = True   \n",
    "                frame = cv2.cvtColor(frame, cv2.COLOR_RGB2BGR)\n",
    "                for (xmin, ymin, xmax,   ymax,  confidence,  clas) in result.xyxy[0].tolist(): # Loop through all Persons in the video, giving x,y of each Person\n",
    "                    c_lm = []\n",
    "                    with mp_pose.Pose(min_detection_confidence=0.3, min_tracking_confidence=0.3) as pose:\n",
    "                            \n",
    "#                             frame.flags.writeable = False  \n",
    "\n",
    "                            resulta = pose.process(frame[int(ymin):int(ymax),int(xmin):int(xmax):])\n",
    "#                             frame.flags.writeable = True   \n",
    "\n",
    "                            if resulta.pose_landmarks and clas ==0: # clas here is class, class = 0 means human\n",
    "                                for (id, lm) in enumerate(resulta.pose_landmarks.landmark):\n",
    "                                    if id > 10 and id not in [17,18,19,20,21,22] and id not in [29,30,31,32] :\n",
    "                                        c_lm.append(lm.x)\n",
    "                                        c_lm.append(lm.y)\n",
    "                                        c_lm.append(lm.z)\n",
    "#                                         c_lm.append(lm.visibility)\n",
    "                    if len(c_lm) > 0: # c_ lm is used to save the x and y variables of a person in a loop through each person. When saving, the status will be that there is no x,y data to save.\n",
    "                        X.append(c_lm) # If the Video link is violent, we add data to X_violent\n",
    "#                 if cv2.waitKey(1) & 0xFF == ord('q'):\n",
    "#                       break\n",
    "    return X\n",
    "    cap.release()\n",
    "    cv2.destroyAllWindows()"
   ]
  },
  {
   "cell_type": "markdown",
   "metadata": {},
   "source": [
    "Lặp qua nhiều video để lấy keypoint"
   ]
  },
  {
   "cell_type": "code",
   "execution_count": null,
   "metadata": {
    "execution": {
     "iopub.execute_input": "2023-03-11T04:13:32.959982Z",
     "iopub.status.busy": "2023-03-11T04:13:32.959533Z",
     "iopub.status.idle": "2023-03-11T04:13:32.966244Z",
     "shell.execute_reply": "2023-03-11T04:13:32.965151Z",
     "shell.execute_reply.started": "2023-03-11T04:13:32.959944Z"
    }
   },
   "outputs": [],
   "source": [
    "def AllVideo(startt,endd,dataset): # This function is used to browse all videos\n",
    "# Status (linkVideo) is: violent, non-violent\n",
    "    X1 = []\n",
    "    \n",
    "# cam (camIndex) is: cam1 or cam2\n",
    "# Video number is: from start to end, for example non-violent data set is startt 1->61 for cam 1, violent from 1 to 115 for cam 1\n",
    "    for id,i in enumerate(range(startt,endd)):\n",
    "        print(f'{startt} -> {endd} ## index: {startt+id}')\n",
    "        X1.extend(EachVideo(dataset[i])) # Implement the function to detect\n",
    "    return X1"
   ]
  },
  {
   "cell_type": "markdown",
   "metadata": {},
   "source": [
    "Save the keypoint, run the getData function to run multiple videos at the same time (threading) to get the keypoint"
   ]
  },
  {
   "cell_type": "code",
   "execution_count": null,
   "metadata": {
    "execution": {
     "iopub.execute_input": "2023-03-11T04:21:18.379464Z",
     "iopub.status.busy": "2023-03-11T04:21:18.374653Z",
     "iopub.status.idle": "2023-03-11T04:21:20.224934Z",
     "shell.execute_reply": "2023-03-11T04:21:20.197841Z",
     "shell.execute_reply.started": "2023-03-11T04:21:18.379391Z"
    }
   },
   "outputs": [],
   "source": [
    "X = []\n",
    "def getData(startt,endd,origin_data):\n",
    "    global X\n",
    "    X = AllVideo(startt,endd,origin_data)\n",
    "\n",
    "    \n",
    "active = []\n",
    "skipT = 2000\n",
    "for i in range(0,10):\n",
    "    active_1 = Thread(target=getData,args=(skipT,skipT+20,origin_data_normal))\n",
    "    skipT = skipT + 20\n",
    "    active.append(active_1)\n",
    "\n",
    "for i in active:\n",
    "    i.start()\n",
    "for i in active:\n",
    "    i.join()\n",
    "\n",
    "print(len(X))\n",
    "X = np.array(X)\n",
    "print(X.shape)"
   ]
  },
  {
   "cell_type": "markdown",
   "metadata": {},
   "source": [
    "Save keypoints to file"
   ]
  },
  {
   "cell_type": "code",
   "execution_count": null,
   "metadata": {},
   "outputs": [],
   "source": [
    "X = pd.DataFrame(X)\n",
    "X  = np.nan_to_num(X) # Once there is data, there will be some words in the data that are NaN, so they should be converted to 0\n",
    "X = pd.DataFrame(X)\n",
    "X.to_csv(\"./normal_2000_2500.csv\")"
   ]
  },
  {
   "cell_type": "markdown",
   "metadata": {},
   "source": [
    "**Do not use the part below**"
   ]
  },
  {
   "cell_type": "markdown",
   "metadata": {},
   "source": []
  },
  {
   "cell_type": "markdown",
   "metadata": {},
   "source": [
    "Model 1"
   ]
  },
  {
   "cell_type": "code",
   "execution_count": null,
   "metadata": {
    "execution": {
     "iopub.execute_input": "2022-11-10T13:02:19.118607Z",
     "iopub.status.busy": "2022-11-10T13:02:19.118251Z",
     "iopub.status.idle": "2022-11-10T13:02:19.273262Z",
     "shell.execute_reply": "2022-11-10T13:02:19.272174Z",
     "shell.execute_reply.started": "2022-11-10T13:02:19.118576Z"
    }
   },
   "outputs": [],
   "source": [
    "violent_1_200 = pd.read_csv(\"../input/subkevin/violent_1_200.csv\")\n",
    "violent_200_400 = pd.read_csv(\"../input/subkevin/violent_200_400.csv\")\n",
    "violent_400_600 = pd.read_csv(\"../input/subkevin/violent_400_600.csv\")\n",
    "\n",
    "normal_1_500 = pd.read_csv(\"../input/subkevin/normal_1_500.csv\")\n",
    "normal_500_1000 = pd.read_csv(\"../input/subkevin/normal_500_1000.csv\")\n",
    "normal_1000_1500 = pd.read_csv(\"../input/subkevin/normal_1000_1500.csv\")\n",
    "normal_1500_2000 = pd.read_csv(\"../input/subkevin/normal_1500_2000.csv\")\n",
    "normal_2000_2500 = pd.read_csv(\"../input/subkevin/normal_2000_2500.csv\")\n",
    "\n",
    "violent_1_200 = violent_1_200.append(violent_200_400)\n",
    "violent_1_200 = violent_1_200.append(violent_400_600)\n",
    "\n",
    "\n",
    "normal_1_500 = normal_1_500.append(normal_500_1000)\n",
    "normal_1_500 = normal_1_500.append(normal_1000_1500)\n",
    "normal_1_500 = normal_1_500.append(normal_1500_2000)\n",
    "normal_1_500 = normal_1_500.append(normal_2000_2500)\n",
    "\n",
    "\n",
    "X = []\n",
    "y = []\n",
    "\n",
    "X_violent = violent_1_200.iloc[:,1:].values\n",
    "len_X_violent = len(X_violent)\n",
    "for i in range(10,len_X_violent):\n",
    "    X.append(X_violent[i-10:i,:])\n",
    "    y.append(1)\n",
    "    \n",
    "    \n",
    "X_non_violent = normal_1_500.iloc[:,1:].values\n",
    "len_X_non_violent = len(X_non_violent)\n",
    "for i in range(10,len_X_non_violent):\n",
    "    X.append(X_non_violent[i-10:i,:])\n",
    "    y.append(0)\n",
    "    \n",
    "    \n",
    "X = np.array(X)\n",
    "y = np.array(y)    \n",
    "print(violent_1_200.shape)\n",
    "print(normal_1_500.shape)\n",
    "print(X.shape)\n",
    "print(y.shape)\n",
    "\n"
   ]
  },
  {
   "cell_type": "code",
   "execution_count": null,
   "metadata": {},
   "outputs": [],
   "source": [
    "model  = Sequential()\n",
    "model.add(LSTM(units = 50, return_sequences = True, input_shape = (X.shape[1],X.shape[2])))\n",
    "model.add(Dropout(0.2))\n",
    "model.add(LSTM(units = 50, return_sequences = True))\n",
    "model.add(Dropout(0.2))\n",
    "model.add(LSTM(units = 50, return_sequences = True))\n",
    "model.add(Dropout(0.2))\n",
    "model.add(Dense(units = 4, activation=\"relu\"))\n",
    "model.add(Dense(units = 1, activation=\"sigmoid\"))\n",
    "model.compile(optimizer=\"adam\",  metrics = ['accuracy'], loss = \"binary_crossentropy\")"
   ]
  },
  {
   "cell_type": "code",
   "execution_count": null,
   "metadata": {},
   "outputs": [],
   "source": [
    "model.fit(X, y, epochs=32, batch_size=32,validation_split=0.2)"
   ]
  },
  {
   "cell_type": "markdown",
   "metadata": {},
   "source": [
    "Model 2"
   ]
  },
  {
   "cell_type": "code",
   "execution_count": null,
   "metadata": {
    "execution": {
     "iopub.execute_input": "2022-11-10T13:10:14.797001Z",
     "iopub.status.busy": "2022-11-10T13:10:14.796636Z",
     "iopub.status.idle": "2022-11-10T13:10:14.806579Z",
     "shell.execute_reply": "2022-11-10T13:10:14.805571Z",
     "shell.execute_reply.started": "2022-11-10T13:10:14.796970Z"
    }
   },
   "outputs": [],
   "source": [
    "def getAngle(array_a):\n",
    "    len_a = len(array_a)\n",
    "    len_x  = int(len_a/2)\n",
    "    so_chan = 0\n",
    "    fa = []\n",
    "    for i in range(0,len_x):\n",
    "        fa.append(so_chan)\n",
    "        so_chan = so_chan + 2\n",
    "        \n",
    "    ff = []\n",
    "    dem = 0\n",
    "    sum  = 0\n",
    "    for i in range(4,len_a):\n",
    "        ff.append([])\n",
    "        for j in range(i-4,i+1):\n",
    "            \n",
    "            len_x  = int(len(array_a[j])/2)\n",
    "            for i in range(0,len_x):\n",
    "                fa.append(so_chan)\n",
    "                so_chan = so_chan + 2\n",
    "\n",
    "            for k in range(0,len_x-1):\n",
    "                for m in range(k+1,len_x):\n",
    "                    tru_x =  array_a[j][fa[m]] - array_a[j][fa[k]] \n",
    "                    tru_y = array_a[j][fa[m]+1] -  array_a[j][fa[k]+1]\n",
    "                    if tru_x == 0:\n",
    "                        tru_x=1\n",
    "                    atan = math.atan(tru_y / tru_x)\n",
    "                    ff[dem].append(atan)\n",
    "                    \n",
    "        dem = dem + 1\n",
    "    return ff"
   ]
  },
  {
   "cell_type": "code",
   "execution_count": null,
   "metadata": {
    "execution": {
     "iopub.execute_input": "2022-11-10T13:10:18.731825Z",
     "iopub.status.busy": "2022-11-10T13:10:18.731465Z",
     "iopub.status.idle": "2022-11-10T13:10:28.039298Z",
     "shell.execute_reply": "2022-11-10T13:10:28.038168Z",
     "shell.execute_reply.started": "2022-11-10T13:10:18.731794Z"
    }
   },
   "outputs": [],
   "source": [
    "normal_1_500_copy = np.copy(normal_1_500)\n",
    "violent_1_200_copy = np.copy(violent_1_200)\n",
    "                             \n",
    "normal_1_500_array = list(normal_1_500_copy)\n",
    "violent_1_200_array = list(violent_1_200_copy)\n",
    "\n",
    "X_model_2_violent  = []\n",
    "X_model_2_violent.extend(getAngle(violent_1_200_array))\n",
    "X_model_2_violent = pd.DataFrame(X_model_2_violent)\n",
    "\n",
    "\n",
    "X_model_2_non_violent = []\n",
    "X_model_2_non_violent.extend(getAngle(normal_1_500_array))\n",
    "X_model_2_non_violent = pd.DataFrame(X_model_2_non_violent)\n",
    "\n",
    "\n",
    "X_2 = list([])\n",
    "y_2 = list([])\n",
    "# print(len(X_model_2_violent))\n",
    "\n",
    "X_model_2_violent =  X_model_2_violent.iloc[:,1:].values\n",
    "len_X_model_2_violent = len(X_model_2_violent)\n",
    "for i in range(10,len_X_model_2_violent):\n",
    "    X_2.append(X_model_2_violent[i-10:i,:])\n",
    "    y_2.append(1)\n",
    "    \n",
    "\n",
    "X_model_2_non_violent =  X_model_2_non_violent.iloc[:,1:].values\n",
    "len_X_model_2_non_violent = len(X_model_2_non_violent)\n",
    "for i in range(10,len_X_model_2_non_violent):\n",
    "    X_2.append(X_model_2_non_violent[i-10:i,:])\n",
    "    y_2.append(0)\n",
    "\n",
    "\n",
    "# y_model_2 = []\n",
    "\n",
    "# len_X_violent = len(violent_1_200_array)\n",
    "# for i in range(10,len_X_violent):\n",
    "#     X_model_2.append(X_violent[i-10:i,:])\n",
    "#     y.append(1)\n",
    "# X = []\n",
    "# y = []\n",
    "X_2 = np.array(X_2)\n",
    "y_2 = np.array(y_2)\n",
    "\n",
    "print(X_2.shape)\n",
    "print(y_2.shape)"
   ]
  },
  {
   "cell_type": "code",
   "execution_count": null,
   "metadata": {
    "execution": {
     "iopub.execute_input": "2022-11-10T13:10:34.196571Z",
     "iopub.status.busy": "2022-11-10T13:10:34.196217Z",
     "iopub.status.idle": "2022-11-10T13:10:34.343779Z",
     "shell.execute_reply": "2022-11-10T13:10:34.342896Z",
     "shell.execute_reply.started": "2022-11-10T13:10:34.196539Z"
    }
   },
   "outputs": [],
   "source": [
    "model_3  = Sequential()\n",
    "\n",
    "model_3.add(Dense( 500, activation=\"relu\",input_shape = (X_2.shape[1],X_2.shape[2])))\n",
    "model_3.add(Dense( 300, activation=\"relu\"))\n",
    "\n",
    "# model_3.add(LSTM(units = 50, return_sequences = True, input_shape = (X.shape[1],X.shape[2])))\n",
    "model_3.add(Dropout(0.4))\n",
    "\n",
    "model_3.add(Dense( 100, activation=\"relu\"))\n",
    "model_3.add(Dense( 50, activation=\"relu\"))\n",
    "model_3.add(Dropout(0.3))\n",
    "\n",
    "model_3.add(Dense( 25, activation=\"relu\"))\n",
    "model_3.add(Dense( 10, activation=\"relu\"))\n",
    "model_3.add(Dense( 5, activation=\"relu\"))\n",
    "model_3.add(Dense( 1, activation=\"sigmoid\"))\n",
    "model_3.compile(optimizer=\"adam\",  metrics = ['accuracy'], loss = \"binary_crossentropy\")\n",
    "model_3.summary()"
   ]
  },
  {
   "cell_type": "code",
   "execution_count": null,
   "metadata": {
    "execution": {
     "iopub.execute_input": "2022-11-10T13:10:37.213907Z",
     "iopub.status.busy": "2022-11-10T13:10:37.213015Z",
     "iopub.status.idle": "2022-11-10T13:13:00.952521Z",
     "shell.execute_reply": "2022-11-10T13:13:00.951450Z",
     "shell.execute_reply.started": "2022-11-10T13:10:37.213873Z"
    }
   },
   "outputs": [],
   "source": [
    "model_3.fit(X_2, y_2, epochs=32, batch_size=32,validation_split=0.2)"
   ]
  },
  {
   "cell_type": "markdown",
   "metadata": {},
   "source": [
    "Data artlab"
   ]
  },
  {
   "cell_type": "code",
   "execution_count": null,
   "metadata": {
    "execution": {
     "iopub.execute_input": "2022-11-10T09:58:44.698461Z",
     "iopub.status.busy": "2022-11-10T09:58:44.698104Z",
     "iopub.status.idle": "2022-11-10T09:58:45.440530Z",
     "shell.execute_reply": "2022-11-10T09:58:45.439591Z",
     "shell.execute_reply.started": "2022-11-10T09:58:44.698431Z"
    }
   },
   "outputs": [],
   "source": [
    "X= []\n",
    "y =[]\n",
    "non_violent = pd.read_csv(\"../input/subkevin/non_violent.csv\")\n",
    "X_non_violent = non_violent.iloc[:,1:].values\n",
    "len_X_non_violent = len(X_non_violent)\n",
    "for i in range(10,len_X_non_violent):\n",
    "  X.append(X_non_violent[i-10:i,:])\n",
    "  y.append(0)\n",
    "violent = pd.read_csv(\"../input/subkevin/violent.csv\")\n",
    "X_violent = violent.iloc[:,1:].values\n",
    "len_X_violent = len(X_violent)\n",
    "for i in range(10,len_X_violent):\n",
    "  X.append(X_violent[i-10:i,:])\n",
    "  y.append(1)\n"
   ]
  },
  {
   "cell_type": "code",
   "execution_count": null,
   "metadata": {
    "execution": {
     "iopub.execute_input": "2022-11-10T09:58:47.569477Z",
     "iopub.status.busy": "2022-11-10T09:58:47.568765Z",
     "iopub.status.idle": "2022-11-10T09:58:47.631429Z",
     "shell.execute_reply": "2022-11-10T09:58:47.630426Z",
     "shell.execute_reply.started": "2022-11-10T09:58:47.569442Z"
    }
   },
   "outputs": [],
   "source": [
    "X = np.array(X)\n",
    "y = np.array(y)\n",
    "print(X.shape)\n",
    "print(y.shape)"
   ]
  },
  {
   "cell_type": "code",
   "execution_count": null,
   "metadata": {
    "execution": {
     "iopub.execute_input": "2022-11-10T09:59:25.767683Z",
     "iopub.status.busy": "2022-11-10T09:59:25.767007Z",
     "iopub.status.idle": "2022-11-10T09:59:26.374353Z",
     "shell.execute_reply": "2022-11-10T09:59:26.373417Z",
     "shell.execute_reply.started": "2022-11-10T09:59:25.767649Z"
    }
   },
   "outputs": [],
   "source": [
    "model2  = Sequential()\n",
    "model2.add(LSTM(units = 50, return_sequences = True, input_shape = (X.shape[1],X.shape[2])))\n",
    "model2.add(Dropout(0.2))\n",
    "model2.add(LSTM(units = 50, return_sequences = True))\n",
    "model2.add(Dropout(0.2))\n",
    "model2.add(LSTM(units = 50, return_sequences = True))\n",
    "model2.add(Dropout(0.2))\n",
    "model2.add(Dense(units = 4, activation=\"relu\"))\n",
    "model2.add(Dense(units = 1, activation=\"sigmoid\"))\n",
    "model2.compile(optimizer=\"adam\",  metrics = ['accuracy'], loss = \"binary_crossentropy\")"
   ]
  },
  {
   "cell_type": "code",
   "execution_count": null,
   "metadata": {
    "execution": {
     "iopub.execute_input": "2022-11-10T09:59:28.969019Z",
     "iopub.status.busy": "2022-11-10T09:59:28.968621Z",
     "iopub.status.idle": "2022-11-10T10:02:31.716255Z",
     "shell.execute_reply": "2022-11-10T10:02:31.715216Z",
     "shell.execute_reply.started": "2022-11-10T09:59:28.968985Z"
    }
   },
   "outputs": [],
   "source": [
    "model2.fit(X, y, epochs=32, batch_size=32,validation_split=0.2)"
   ]
  },
  {
   "cell_type": "code",
   "execution_count": null,
   "metadata": {},
   "outputs": [],
   "source": [
    "model.save(\"./model_v41.h5\")"
   ]
  }
 ],
 "metadata": {
  "kernelspec": {
   "display_name": "Python 3",
   "language": "python",
   "name": "python3"
  },
  "language_info": {
   "codemirror_mode": {
    "name": "ipython",
    "version": 3
   },
   "file_extension": ".py",
   "mimetype": "text/x-python",
   "name": "python",
   "nbconvert_exporter": "python",
   "pygments_lexer": "ipython3",
   "version": "3.7.12"
  }
 },
 "nbformat": 4,
 "nbformat_minor": 4
}
